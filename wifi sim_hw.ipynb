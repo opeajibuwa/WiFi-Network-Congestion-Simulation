{
 "cells": [
  {
   "cell_type": "markdown",
   "id": "fde66251",
   "metadata": {},
   "source": [
    "#### Import necessary packages"
   ]
  },
  {
   "cell_type": "code",
   "execution_count": 162,
   "id": "54d8b41d",
   "metadata": {},
   "outputs": [],
   "source": [
    "import warnings\n",
    "warnings.filterwarnings(\"ignore\")\n",
    "\n",
    "from datetime import time\n",
    "import numpy as np\n",
    "import pandas as pd\n",
    "import matplotlib.pyplot as plt\n",
    "from math import sqrt\n",
    "import time"
   ]
  },
  {
   "cell_type": "markdown",
   "id": "1f54a144",
   "metadata": {},
   "source": [
    "#### WiFi system simulation implementation"
   ]
  },
  {
   "cell_type": "code",
   "execution_count": 167,
   "id": "d005add9",
   "metadata": {},
   "outputs": [],
   "source": [
    "def run_queue(seed):\n",
    "    \n",
    "    #---Define Problem Parameters---#\n",
    "    n_events = 30\n",
    "    np.random.seed(seed)\n",
    "    event = 0\n",
    "    time_ = 0 #at event zero, time is also zero\n",
    "    \n",
    "    #create counters for arrived and served packets\n",
    "    arrived_packets = 0\n",
    "    served_packets = 0\n",
    "    departed_packets = 0\n",
    "\n",
    "    #generate random variables for next events\n",
    "    interarrival_time = np.random.exponential(0.5)\n",
    "    next_arrival_time = time_ + interarrival_time\n",
    "    server_status = \"idle\"\n",
    "    queue = 0\n",
    "    arrived_packets += 1\n",
    "\n",
    "    #event zero done\n",
    "    event += 1\n",
    "    \n",
    "    #create timeseries and populate with event 1 details\n",
    "    ts_columns = ['event', 'time', 'type', 'queue', 'arr pkt', 'served pkt', 'depar pkt']\n",
    "    time_series = pd.DataFrame([[1, float(next_arrival_time), 'arrival', queue, arrived_packets, 0, 0]], columns = ts_columns)\n",
    "\n",
    "\n",
    "    while event <= n_events and departed_packets <= 9:\n",
    "        #parameters at event time t\n",
    "        event_type = time_series['type'].iloc[event - 1]\n",
    "        time_ = time_series['time'].iloc[event - 1]\n",
    "\n",
    "        #if event is an arrival\n",
    "        if event_type == 'arrival':\n",
    "            \n",
    "            #arrival event generate by default next arrival time\n",
    "            arrived_packets += 1  #counter of arrived packets increases by 1\n",
    "\n",
    "            #generate next arrival time\n",
    "            interarrival_time = interarrival_time = np.random.exponential(0.5)\n",
    "            next_arrival_time = time_ + interarrival_time\n",
    "\n",
    "            #if server status is idle, pkt is served immediately and generates service time\n",
    "            if server_status == 'idle':\n",
    "                served_packets += 1 #pkt is served and counter of served pkt increases by 1\n",
    "                time_series['served pkt'].iloc[event - 1] = served_packets \n",
    "                #pkt number is added to the 'served pkt' column at event n\n",
    "\n",
    "                #generate next events (service and departure time)\n",
    "                service_time = np.random.exponential(1)\n",
    "                departure_time = time_ + service_time\n",
    "                departed_packets += 1 #same pkt that is served at arrival time departs at departure time\n",
    "\n",
    "                #add generated events to existing time series\n",
    "                generated_events = pd.DataFrame([\n",
    "                                [99, float(departure_time), \"departure\", 0, 0, 0, departed_packets],\n",
    "                                [99, float(next_arrival_time), \"arrival\", 0, arrived_packets, 0, 0], \n",
    "                                ], columns = ts_columns)\n",
    "                                #Order doesn't matter because it's sorted next\n",
    "                            \n",
    "                time_series = pd.concat([time_series, generated_events])   \n",
    "                time_series = time_series.sort_values(['time'])  #events are sorted by time\n",
    "                time_series.reset_index(drop=True, inplace=True)\n",
    "                time_series['event'] = list(range(1, time_series.shape[0]+1))  #event number is assigned by time order\n",
    "\n",
    "                #event is finished and event counter increases\n",
    "                event += 1\n",
    "\n",
    "\n",
    "            if server_status == 'busy':\n",
    "                queue += 1\n",
    "                #add generated events to existing time series\n",
    "                generated_events = pd.DataFrame([[99, float(next_arrival_time), \"arrival\", 0, arrived_packets, 0, 0]],\n",
    "                                            columns = ts_columns)\n",
    "\n",
    "                time_series = pd.concat([time_series, generated_events])\n",
    "                time_series = time_series.sort_values(['time'])\n",
    "                time_series.reset_index(drop=True, inplace=True)\n",
    "                time_series['event'] = list(range(1, time_series.shape[0]+1))\n",
    "                time_series['queue'].iloc[event-1] = queue\n",
    "                \n",
    "                #event is finished and event counter increases\n",
    "                event += 1\n",
    "\n",
    "        #if event is a departure\n",
    "        if event_type == 'departure':\n",
    "\n",
    "            # if queue is zero and pkt departs, server status remains idle and next event is an arrival\n",
    "            if queue == 0:\n",
    "                server_status = \"idle\"\n",
    "                #event is finised and event counter increases\n",
    "                #nothing else happens until next arrival\n",
    "                event += 1\n",
    "\n",
    "            # if there are packets in queue (>0), server changes to busy and queue decreases by one\n",
    "            if queue != 0:\n",
    "                #pkt is served and counter of served pkt increases by 1\n",
    "                served_packets += 1\n",
    "                #this pkt number is added to the 'served pkt' column at event n\n",
    "                time_series['served pkt'].iloc[event-1] = served_packets\n",
    "\n",
    "                #queue decreases by one\n",
    "                queue -= 1\n",
    "                server_status = \"busy\"\n",
    "\n",
    "                #generate the next events (service and departure time)\n",
    "                service_time = np.random.exponential(1)\n",
    "                departure_time = time_ + service_time\n",
    "                departed_packets += 1 #same pkt that is served at arrival time departs at departure time\n",
    "\n",
    "                #add generated events to existing time series\n",
    "                generated_events = pd.DataFrame([\n",
    "                                        [99, float(departure_time), \"departure\", 0, 0, 0, departed_packets]], \n",
    "                                        columns = ts_columns)\n",
    "                \n",
    "                time_series = pd.concat([time_series, generated_events])\n",
    "                time_series = time_series.sort_values(['time'])\n",
    "                time_series.reset_index(drop=True, inplace=True)\n",
    "                time_series['event'] = list(range(1, time_series.shape[0]+1))\n",
    "                time_series['queue'].iloc[event-1] = queue\n",
    "\n",
    "                #event is finished and event counter increases\n",
    "                event += 1\n",
    "\n",
    "        #once the event is finished, determine the server status for the next event\n",
    "        #if the next arrival is before the departure of current pkt, server will be busy at arrival\n",
    "        if next_arrival_time < departure_time:\n",
    "            server_status = \"busy\"\n",
    "        else:\n",
    "            server_status = \"idle\"\n",
    "\n",
    "\n",
    "    ####--------------Summary statistics of all packets with results--------------####\n",
    "    \n",
    "    #get arriving packets\n",
    "    arrivals = time_series.loc[time_series['type'] == 'arrival', ['time', 'arr pkt', 'queue']]\n",
    "    arrivals.columns = ['time', 'packet', 'queue']\n",
    "    #get departing packets\n",
    "    departure = time_series.loc[time_series['type'] == 'departure', ['time', 'depar pkt']]\n",
    "    departure.columns = ['time', 'packet']\n",
    "    #get packets being served\n",
    "    serving = time_series.loc[time_series['served pkt'] != 0, ['time', 'served pkt' ]]\n",
    "    serving.columns = ['time', 'packet']\n",
    "\n",
    "    #merge\n",
    "    pkt_df = arrivals.merge(departure, on='packet')\n",
    "    pkt_df = pkt_df.merge(serving, on='packet')\n",
    "    pkt_df.columns = ['arrival time', 'packets', 'queue', 'departure time', 'serving time']\n",
    "    pkt_df = pkt_df[['packets', 'arrival time', 'queue', 'serving time', 'departure time']]\n",
    "    pkt_df['queue'] = pkt_df['queue'] + 1\n",
    "\n",
    "    #get time in queue\n",
    "    pkt_df['time in queue'] = pkt_df['serving time'] - pkt_df['arrival time']\n",
    "    #get time in server\n",
    "    pkt_df['time in server'] = pkt_df['departure time'] - pkt_df['serving time']\n",
    "    #get time in system\n",
    "    pkt_df['total time in system'] = pkt_df['time in server'] + pkt_df['time in queue']\n",
    "    #round all floats to 2 digits\n",
    "    pkt_df = pkt_df.round(2)\n",
    "    \n",
    "    \n",
    "    tot_systime_for_10pkts = pkt_df['total time in system'].sum()\n",
    "    tot_servtime_for_10pkts = pkt_df['time in server'].sum()\n",
    "    tot_interarrival_time = pkt_df['arrival time'].max() - pkt_df['arrival time'].min()\n",
    "    tot_packets_in_queue = pkt_df['queue'].sum()\n",
    "    \n",
    "    all_sys_stats = [tot_systime_for_10pkts, tot_servtime_for_10pkts, tot_interarrival_time, tot_packets_in_queue]\n",
    "    \n",
    "    empty_dictionary = {}\n",
    "    total_pkt = pkt_df['packets'].max()\n",
    "    avgtime_inqueue = pkt_df['time in queue'].sum()/total_pkt\n",
    "    avgtime_inserver = pkt_df['time in server'].sum()/total_pkt\n",
    "    avgtime_insystem = pkt_df['total time in system'].sum()/total_pkt\n",
    "\n",
    "    empty_dictionary['time in queue'] = avgtime_inqueue\n",
    "    empty_dictionary['time in server'] = avgtime_inserver\n",
    "    empty_dictionary['time in system'] = avgtime_insystem\n",
    "    \n",
    "    #return empty_dictionary\n",
    "    \n",
    "    return all_sys_stats"
   ]
  },
  {
   "cell_type": "code",
   "execution_count": 166,
   "id": "d57a6535",
   "metadata": {},
   "outputs": [
    {
     "name": "stdout",
     "output_type": "stream",
     "text": [
      "--- 0.0400090217590332 seconds ---\n"
     ]
    }
   ],
   "source": [
    "start_time = time.time()\n",
    "\n",
    "run_result = run_queue(1)\n",
    "\n",
    "print(\"--- %s seconds ---\" % (time.time() - start_time))"
   ]
  },
  {
   "cell_type": "code",
   "execution_count": 160,
   "id": "c7c2e831",
   "metadata": {
    "scrolled": false
   },
   "outputs": [
    {
     "data": {
      "text/html": [
       "<div>\n",
       "<style scoped>\n",
       "    .dataframe tbody tr th:only-of-type {\n",
       "        vertical-align: middle;\n",
       "    }\n",
       "\n",
       "    .dataframe tbody tr th {\n",
       "        vertical-align: top;\n",
       "    }\n",
       "\n",
       "    .dataframe thead th {\n",
       "        text-align: right;\n",
       "    }\n",
       "</style>\n",
       "<table border=\"1\" class=\"dataframe\">\n",
       "  <thead>\n",
       "    <tr style=\"text-align: right;\">\n",
       "      <th></th>\n",
       "      <th>packets</th>\n",
       "      <th>arrival time</th>\n",
       "      <th>queue</th>\n",
       "      <th>serving time</th>\n",
       "      <th>departure time</th>\n",
       "      <th>time in queue</th>\n",
       "      <th>time in server</th>\n",
       "      <th>total time in system</th>\n",
       "    </tr>\n",
       "  </thead>\n",
       "  <tbody>\n",
       "    <tr>\n",
       "      <th>0</th>\n",
       "      <td>1</td>\n",
       "      <td>0.27</td>\n",
       "      <td>1</td>\n",
       "      <td>0.27</td>\n",
       "      <td>0.27</td>\n",
       "      <td>0.00</td>\n",
       "      <td>0.00</td>\n",
       "      <td>0.00</td>\n",
       "    </tr>\n",
       "    <tr>\n",
       "      <th>1</th>\n",
       "      <td>2</td>\n",
       "      <td>0.91</td>\n",
       "      <td>1</td>\n",
       "      <td>0.91</td>\n",
       "      <td>1.07</td>\n",
       "      <td>0.00</td>\n",
       "      <td>0.16</td>\n",
       "      <td>0.16</td>\n",
       "    </tr>\n",
       "    <tr>\n",
       "      <th>2</th>\n",
       "      <td>3</td>\n",
       "      <td>1.09</td>\n",
       "      <td>1</td>\n",
       "      <td>1.09</td>\n",
       "      <td>1.29</td>\n",
       "      <td>0.00</td>\n",
       "      <td>0.21</td>\n",
       "      <td>0.21</td>\n",
       "    </tr>\n",
       "    <tr>\n",
       "      <th>3</th>\n",
       "      <td>4</td>\n",
       "      <td>1.14</td>\n",
       "      <td>2</td>\n",
       "      <td>1.29</td>\n",
       "      <td>1.80</td>\n",
       "      <td>0.16</td>\n",
       "      <td>0.51</td>\n",
       "      <td>0.66</td>\n",
       "    </tr>\n",
       "    <tr>\n",
       "      <th>4</th>\n",
       "      <td>5</td>\n",
       "      <td>1.35</td>\n",
       "      <td>2</td>\n",
       "      <td>1.80</td>\n",
       "      <td>2.95</td>\n",
       "      <td>0.45</td>\n",
       "      <td>1.16</td>\n",
       "      <td>1.61</td>\n",
       "    </tr>\n",
       "    <tr>\n",
       "      <th>5</th>\n",
       "      <td>6</td>\n",
       "      <td>1.73</td>\n",
       "      <td>3</td>\n",
       "      <td>2.95</td>\n",
       "      <td>2.98</td>\n",
       "      <td>1.22</td>\n",
       "      <td>0.03</td>\n",
       "      <td>1.25</td>\n",
       "    </tr>\n",
       "    <tr>\n",
       "      <th>6</th>\n",
       "      <td>7</td>\n",
       "      <td>2.01</td>\n",
       "      <td>3</td>\n",
       "      <td>2.98</td>\n",
       "      <td>4.09</td>\n",
       "      <td>0.98</td>\n",
       "      <td>1.11</td>\n",
       "      <td>2.09</td>\n",
       "    </tr>\n",
       "    <tr>\n",
       "      <th>7</th>\n",
       "      <td>8</td>\n",
       "      <td>2.12</td>\n",
       "      <td>4</td>\n",
       "      <td>4.09</td>\n",
       "      <td>7.54</td>\n",
       "      <td>1.97</td>\n",
       "      <td>3.45</td>\n",
       "      <td>5.42</td>\n",
       "    </tr>\n",
       "    <tr>\n",
       "      <th>8</th>\n",
       "      <td>9</td>\n",
       "      <td>3.17</td>\n",
       "      <td>3</td>\n",
       "      <td>7.54</td>\n",
       "      <td>7.63</td>\n",
       "      <td>4.37</td>\n",
       "      <td>0.09</td>\n",
       "      <td>4.46</td>\n",
       "    </tr>\n",
       "    <tr>\n",
       "      <th>9</th>\n",
       "      <td>10</td>\n",
       "      <td>3.44</td>\n",
       "      <td>4</td>\n",
       "      <td>7.63</td>\n",
       "      <td>7.67</td>\n",
       "      <td>4.19</td>\n",
       "      <td>0.04</td>\n",
       "      <td>4.23</td>\n",
       "    </tr>\n",
       "  </tbody>\n",
       "</table>\n",
       "</div>"
      ],
      "text/plain": [
       "   packets  arrival time  queue  serving time  departure time  time in queue  \\\n",
       "0        1          0.27      1          0.27            0.27           0.00   \n",
       "1        2          0.91      1          0.91            1.07           0.00   \n",
       "2        3          1.09      1          1.09            1.29           0.00   \n",
       "3        4          1.14      2          1.29            1.80           0.16   \n",
       "4        5          1.35      2          1.80            2.95           0.45   \n",
       "5        6          1.73      3          2.95            2.98           1.22   \n",
       "6        7          2.01      3          2.98            4.09           0.98   \n",
       "7        8          2.12      4          4.09            7.54           1.97   \n",
       "8        9          3.17      3          7.54            7.63           4.37   \n",
       "9       10          3.44      4          7.63            7.67           4.19   \n",
       "\n",
       "   time in server  total time in system  \n",
       "0            0.00                  0.00  \n",
       "1            0.16                  0.16  \n",
       "2            0.21                  0.21  \n",
       "3            0.51                  0.66  \n",
       "4            1.16                  1.61  \n",
       "5            0.03                  1.25  \n",
       "6            1.11                  2.09  \n",
       "7            3.45                  5.42  \n",
       "8            0.09                  4.46  \n",
       "9            0.04                  4.23  "
      ]
     },
     "execution_count": 160,
     "metadata": {},
     "output_type": "execute_result"
    }
   ],
   "source": [
    "#run_result"
   ]
  },
  {
   "cell_type": "markdown",
   "id": "006934a1",
   "metadata": {},
   "source": [
    "#### Uncomment and run below to calculate the average time a packet spends through the system"
   ]
  },
  {
   "cell_type": "code",
   "execution_count": 156,
   "id": "7753d735",
   "metadata": {},
   "outputs": [],
   "source": [
    "def run_experiments(n_runs=10):\n",
    "    df = pd.DataFrame(columns = ['time in queue', 'time in server', 'time in system'])\n",
    "    for i in range(n_runs):\n",
    "        run_result = pd.DataFrame([run_queue(seed = i)])\n",
    "        df = df.append(run_result)\n",
    "    df.reset_index(inplace=True, drop=True)\n",
    "    df['run number'] = range(1, n_runs+1)\n",
    "    df = df[['run number', 'time in queue', 'time in server', 'time in system']] #rearrange columns\n",
    "    return df\n",
    "\n",
    "experiments = run_experiments()"
   ]
  },
  {
   "cell_type": "code",
   "execution_count": 157,
   "id": "a5349170",
   "metadata": {
    "scrolled": true
   },
   "outputs": [
    {
     "data": {
      "text/html": [
       "<div>\n",
       "<style scoped>\n",
       "    .dataframe tbody tr th:only-of-type {\n",
       "        vertical-align: middle;\n",
       "    }\n",
       "\n",
       "    .dataframe tbody tr th {\n",
       "        vertical-align: top;\n",
       "    }\n",
       "\n",
       "    .dataframe thead th {\n",
       "        text-align: right;\n",
       "    }\n",
       "</style>\n",
       "<table border=\"1\" class=\"dataframe\">\n",
       "  <thead>\n",
       "    <tr style=\"text-align: right;\">\n",
       "      <th></th>\n",
       "      <th>run number</th>\n",
       "      <th>time in queue</th>\n",
       "      <th>time in server</th>\n",
       "      <th>time in system</th>\n",
       "    </tr>\n",
       "  </thead>\n",
       "  <tbody>\n",
       "    <tr>\n",
       "      <th>0</th>\n",
       "      <td>1</td>\n",
       "      <td>1.812000</td>\n",
       "      <td>1.192000</td>\n",
       "      <td>3.006000</td>\n",
       "    </tr>\n",
       "    <tr>\n",
       "      <th>1</th>\n",
       "      <td>2</td>\n",
       "      <td>1.334000</td>\n",
       "      <td>0.676000</td>\n",
       "      <td>2.009000</td>\n",
       "    </tr>\n",
       "    <tr>\n",
       "      <th>2</th>\n",
       "      <td>3</td>\n",
       "      <td>2.262222</td>\n",
       "      <td>0.674444</td>\n",
       "      <td>2.935556</td>\n",
       "    </tr>\n",
       "    <tr>\n",
       "      <th>3</th>\n",
       "      <td>4</td>\n",
       "      <td>2.024444</td>\n",
       "      <td>0.994444</td>\n",
       "      <td>3.020000</td>\n",
       "    </tr>\n",
       "    <tr>\n",
       "      <th>4</th>\n",
       "      <td>5</td>\n",
       "      <td>2.079000</td>\n",
       "      <td>0.762000</td>\n",
       "      <td>2.841000</td>\n",
       "    </tr>\n",
       "    <tr>\n",
       "      <th>5</th>\n",
       "      <td>6</td>\n",
       "      <td>1.213000</td>\n",
       "      <td>0.545000</td>\n",
       "      <td>1.758000</td>\n",
       "    </tr>\n",
       "    <tr>\n",
       "      <th>6</th>\n",
       "      <td>7</td>\n",
       "      <td>4.270000</td>\n",
       "      <td>1.039000</td>\n",
       "      <td>5.310000</td>\n",
       "    </tr>\n",
       "    <tr>\n",
       "      <th>7</th>\n",
       "      <td>8</td>\n",
       "      <td>2.566667</td>\n",
       "      <td>1.720000</td>\n",
       "      <td>4.286667</td>\n",
       "    </tr>\n",
       "    <tr>\n",
       "      <th>8</th>\n",
       "      <td>9</td>\n",
       "      <td>1.171000</td>\n",
       "      <td>1.000000</td>\n",
       "      <td>2.171000</td>\n",
       "    </tr>\n",
       "    <tr>\n",
       "      <th>9</th>\n",
       "      <td>10</td>\n",
       "      <td>3.466000</td>\n",
       "      <td>1.006000</td>\n",
       "      <td>4.469000</td>\n",
       "    </tr>\n",
       "  </tbody>\n",
       "</table>\n",
       "</div>"
      ],
      "text/plain": [
       "   run number  time in queue  time in server  time in system\n",
       "0           1       1.812000        1.192000        3.006000\n",
       "1           2       1.334000        0.676000        2.009000\n",
       "2           3       2.262222        0.674444        2.935556\n",
       "3           4       2.024444        0.994444        3.020000\n",
       "4           5       2.079000        0.762000        2.841000\n",
       "5           6       1.213000        0.545000        1.758000\n",
       "6           7       4.270000        1.039000        5.310000\n",
       "7           8       2.566667        1.720000        4.286667\n",
       "8           9       1.171000        1.000000        2.171000\n",
       "9          10       3.466000        1.006000        4.469000"
      ]
     },
     "execution_count": 157,
     "metadata": {},
     "output_type": "execute_result"
    }
   ],
   "source": [
    "experiments"
   ]
  },
  {
   "cell_type": "markdown",
   "id": "368054bc",
   "metadata": {},
   "source": [
    "#### Run the simulations multiple times and calculate the estimators values (takes about 255seconds for a preset simulation run of 500 in steps of 20)."
   ]
  },
  {
   "cell_type": "code",
   "execution_count": 163,
   "id": "b49a0a13",
   "metadata": {
    "scrolled": true
   },
   "outputs": [
    {
     "name": "stdout",
     "output_type": "stream",
     "text": [
      "--- 255.13564229011536 seconds ---\n"
     ]
    }
   ],
   "source": [
    "start_time = time.time()\n",
    "\n",
    "keys = range(20, 501, 20) #2, 501, 1; it takes about\n",
    "results = {key: None for key in keys}\n",
    "\n",
    "w_bar_estimator = {l: None for l in keys}\n",
    "y_bar_estimator = {m: None for m in keys}\n",
    "z_bar_estimator = {n: None for n in keys}\n",
    "h_bar_estimator = {o: None for o in keys}\n",
    "l_bar_estimator = {p: None for p in keys}\n",
    "\n",
    "sample_var_temp_w = {a: None for a in keys}\n",
    "sample_var_temp_z = {b: None for b in keys}\n",
    "sample_var_temp_h = {c: None for c in keys}\n",
    "sample_var_temp_l = {d: None for d in keys}\n",
    "\n",
    "min_sim_w = []\n",
    "min_sim_z = []\n",
    "min_sim_h = []\n",
    "min_sim_l = []\n",
    "\n",
    "for k in results:\n",
    "    total_systime = []\n",
    "    total_servtime = []\n",
    "    total_inter_arrivtime = []\n",
    "    total_conditional_time = []\n",
    "    \n",
    "    for run in range(k):\n",
    "        run_result = run_queue(seed = run)\n",
    "        pkts_total_systime = run_result[0]\n",
    "        pkts_total_servtime = run_result[1]\n",
    "        pkts_total_inter_arriv = run_result[2]\n",
    "        pkts_conditional_total_time = run_result[3]\n",
    "        \n",
    "        total_systime.append(pkts_total_systime)\n",
    "        total_servtime.append(pkts_total_servtime)\n",
    "        total_inter_arrivtime.append(pkts_total_inter_arriv)\n",
    "        total_conditional_time.append(pkts_conditional_total_time)\n",
    "        \n",
    "    w_estimate = sum(total_systime)/len(total_systime)\n",
    "    y_estimate = sum(total_servtime)/len(total_servtime)\n",
    "    q_estimate = sum(total_inter_arrivtime)/len(total_inter_arrivtime)\n",
    "    l_estimate = sum(total_conditional_time)/len(total_conditional_time)\n",
    "\n",
    "    #calculate the cov(w,y) and var(y)\n",
    "    cov_w_y = []\n",
    "    var_y = []\n",
    "    for i in range(len(total_systime)):\n",
    "        w_diff = total_systime[i] - w_estimate\n",
    "        y_diff = total_servtime[i] - y_estimate\n",
    "        cov_w_y.append(w_diff * y_diff)\n",
    "        var_y.append(y_diff**2)\n",
    "        \n",
    "    cov_w_y = sum(cov_w_y)/(len(cov_w_y) - 1)\n",
    "    var_y = sum(var_y)/(len(var_y) - 1)\n",
    "    \n",
    "    #calculate the c* and estimator for z estimator\n",
    "    c_z_star = -cov_w_y/var_y\n",
    "    z_estimate = w_estimate + c_z_star*(y_estimate - 10)\n",
    "    \n",
    "    \n",
    "    #calculate the cov(w,q) and var(q)\n",
    "    cov_w_q = []\n",
    "    var_q = []\n",
    "    for j in range(len(total_systime)):\n",
    "        w_diff = total_systime[j] - w_estimate\n",
    "        q_diff = total_inter_arrivtime[j] - q_estimate\n",
    "        cov_w_q.append(w_diff * q_diff)\n",
    "        var_q.append(q_diff**2)\n",
    "        \n",
    "    cov_w_q = sum(cov_w_q)/(len(cov_w_q) - 1)\n",
    "    var_q = sum(var_q)/(len(var_q) - 1)\n",
    "    \n",
    "    #calculate the c* and estimator for h estimator\n",
    "    c_h_star = -cov_w_q/var_q\n",
    "    expectation_q = 10 - 9*0.5\n",
    "    h_estimate = w_estimate + c_h_star*(q_estimate - expectation_q)\n",
    "    \n",
    "    #append the estimator values to the predefined dictionary\n",
    "    w_bar_estimator[k] = w_estimate\n",
    "    y_bar_estimator[k] = y_estimate\n",
    "    z_bar_estimator[k] = z_estimate\n",
    "    h_bar_estimator[k] = h_estimate\n",
    "    l_bar_estimator[k] = l_estimate\n",
    "        \n",
    "    \n",
    "    sample_var_w = []\n",
    "    #Calculate the minimum number of simulations runs to achieve (+-10%) confidence interval of the estimated value w\n",
    "    x = 1.645 # since confidence level is 90%\n",
    "    for i in range(len(total_systime)):\n",
    "        sample_var = (total_systime[i] - w_estimate)**2\n",
    "        sample_var_w.append(sample_var)\n",
    "    sample_var_w = sum(sample_var_w)/(len(sample_var_w) - 1)\n",
    "    sample_var_w = sqrt(sample_var_w)\n",
    "    sample_var_temp_w[k] = sample_var_w\n",
    "    conf_interval_w = (2 * sample_var_w * x) / sqrt(k)\n",
    "    conf_interval_star = ((0.1 * w_estimate) + w_estimate) - (w_estimate - (0.1 * w_estimate))\n",
    "    if conf_interval_w < conf_interval_star:\n",
    "        min_sim_w.append(k)\n",
    "        \n",
    "        \n",
    "    sample_var_z = []\n",
    "    #Calculate the minimum number of simulations runs to achieve (+-10%) confidence interval of the estimated value z\n",
    "    x = 1.645 # since confidence level is 90%\n",
    "    for i in range(len(total_systime)):\n",
    "        sample_var = (total_systime[i] - z_estimate)**2\n",
    "        sample_var_z.append(sample_var)\n",
    "    sample_var_z = sum(sample_var_z)/(len(sample_var_z) - 1)\n",
    "    sample_var_z = sqrt(sample_var_z)\n",
    "    sample_var_temp_z[k] = sample_var_z\n",
    "    conf_interval_z = (2 * sample_var_z * x) / sqrt(k)\n",
    "    conf_interval_star = ((0.1 * z_estimate) + z_estimate) - (z_estimate - (0.1 * z_estimate))\n",
    "    if conf_interval_z < conf_interval_star:\n",
    "        min_sim_z.append(k)\n",
    "        \n",
    "    \n",
    "    sample_var_h = []\n",
    "    #Calculate the minimum number of simulations runs to achieve (+-10%) confidence interval of the estimated value z\n",
    "    x = 1.645 # since confidence level is 90%\n",
    "    for i in range(len(total_systime)):\n",
    "        sample_var = (total_systime[i] - h_estimate)**2\n",
    "        sample_var_h.append(sample_var)\n",
    "    sample_var_h = sum(sample_var_h)/(len(sample_var_h) - 1)\n",
    "    sample_var_h = sqrt(sample_var_h)\n",
    "    sample_var_temp_h[k] = sample_var_h\n",
    "    conf_interval_h = (2 * sample_var_h * x) / sqrt(k)\n",
    "    conf_interval_star = ((0.1 * h_estimate) + h_estimate) - (h_estimate - (0.1 * h_estimate))\n",
    "    if conf_interval_h < conf_interval_star:\n",
    "        min_sim_h.append(k)\n",
    "        \n",
    "    \n",
    "    sample_var_l = []\n",
    "    #Calculate the minimum number of simulations runs to achieve (+-10%) confidence interval of the estimated value z\n",
    "    x = 1.645 # since confidence level is 90%\n",
    "    for i in range(len(total_systime)):\n",
    "        sample_var = (total_systime[i] - l_estimate)**2\n",
    "        sample_var_l.append(sample_var)\n",
    "    sample_var_l = sum(sample_var_l)/(len(sample_var_l) - 1)\n",
    "    sample_var_l = sqrt(sample_var_l)\n",
    "    sample_var_temp_l[k] = sample_var_l\n",
    "    conf_interval_l = (2 * sample_var_l * x) / sqrt(k)\n",
    "    conf_interval_star = ((0.1 * l_estimate) + l_estimate) - (l_estimate - (0.1 * l_estimate))\n",
    "    if conf_interval_l < conf_interval_star:\n",
    "        min_sim_l.append(k)\n",
    "    \n",
    "print(\"--- %s seconds ---\" % (time.time() - start_time))\n",
    "\n",
    "# print(\"W:\", w_bar_estimator, \"\\n\")\n",
    "# print(y_bar_estimator, \"\\n\")\n",
    "# print(\"Z:\", z_bar_estimator, \"\\n\")\n",
    "# print(\"H:\", h_bar_estimator, \"\\n\")\n",
    "# print(\"L:\", l_bar_estimator, \"\\n\")"
   ]
  },
  {
   "cell_type": "markdown",
   "id": "5ed5d038",
   "metadata": {},
   "source": [
    "#### (1a) Plot of estimated value of Θ under each of the four estimators"
   ]
  },
  {
   "cell_type": "code",
   "execution_count": 139,
   "id": "ea29654c",
   "metadata": {
    "scrolled": true
   },
   "outputs": [
    {
     "data": {
      "image/png": "[encoded data removed]",
      "text/plain": [
       "<Figure size 720x360 with 1 Axes>"
      ]
     },
     "metadata": {
      "needs_background": "light"
     },
     "output_type": "display_data"
    }
   ],
   "source": [
    "w_bar = []\n",
    "no_sims = []\n",
    "for key, val in w_bar_estimator.items():\n",
    "    w_bar.append(val)\n",
    "    no_sims.append(key)\n",
    "\n",
    "z_bar = []\n",
    "for key, val in z_bar_estimator.items():\n",
    "    z_bar.append(val)\n",
    "    \n",
    "h_bar = []\n",
    "for key, val in h_bar_estimator.items():\n",
    "    h_bar.append(val)\n",
    "    \n",
    "l_bar = []\n",
    "for key, val in l_bar_estimator.items():\n",
    "    l_bar.append(val)\n",
    "\n",
    "no_sims = np.array(no_sims)\n",
    "\n",
    "fig, ax = plt.subplots(figsize=(10, 5))\n",
    "plt.plot(no_sims.astype('str'), w_bar, color='maroon', marker='o')\n",
    "plt.plot(no_sims.astype('str'), z_bar, color='blue', marker='x')\n",
    "plt.plot(no_sims.astype('str'), h_bar, color='green', marker='+')\n",
    "plt.plot(no_sims.astype('str'), l_bar, color='orange', marker='v')\n",
    "plt.xlabel('no of simulations') \n",
    "plt.ylabel('total time of all pkts')\n",
    "plt.legend([\"raw estimator 'W'\", \"control variate 'Z'\", \"control variate 'Q'\", \"conditional estimator 'L'\"], loc=\"lower right\")\n",
    "  \n",
    "# displaying the title\n",
    "plt.title(\"\")\n",
    "plt.show()"
   ]
  },
  {
   "cell_type": "markdown",
   "id": "f3ec95f3",
   "metadata": {},
   "source": [
    "#### (1b) Plot the 90% normalized confidence interval width of the estimators"
   ]
  },
  {
   "cell_type": "code",
   "execution_count": 131,
   "id": "53d7f37b",
   "metadata": {},
   "outputs": [],
   "source": [
    "x = 1.645 # since confidence level is 90%\n",
    "x_1 = np.array(no_sims)\n",
    "w_error_ = []\n",
    "for key, val in sample_var_temp_w.items():\n",
    "    w_error_.append((val*x)/sqrt(key))\n",
    "\n",
    "z_error_ = []\n",
    "for key, val in sample_var_temp_z.items():\n",
    "    z_error_.append((val*x)/sqrt(key))\n",
    "    \n",
    "h_error_ = []\n",
    "for key, val in sample_var_temp_h.items():\n",
    "    h_error_.append((val*x)/sqrt(key))\n",
    "    \n",
    "l_error_ = []\n",
    "for key, val in sample_var_temp_l.items():\n",
    "    l_error_.append((val*x)/sqrt(key))"
   ]
  },
  {
   "cell_type": "code",
   "execution_count": 140,
   "id": "4d69430e",
   "metadata": {},
   "outputs": [
    {
     "data": {
      "text/plain": [
       "Text(0.5, 1.0, \"estimator 'W' 90% confidence interval\")"
      ]
     },
     "execution_count": 140,
     "metadata": {},
     "output_type": "execute_result"
    },
    {
     "data": {
      "image/png": "[encoded data removed]",
      "text/plain": [
       "<Figure size 720x360 with 1 Axes>"
      ]
     },
     "metadata": {
      "needs_background": "light"
     },
     "output_type": "display_data"
    }
   ],
   "source": [
    "fig, ax = plt.subplots(figsize=(10, 5))\n",
    "plt.errorbar(x_1.astype('str'), y=w_bar, yerr=w_error_, color=\"maroon\", capsize=3,\n",
    "             linestyle=\"None\",\n",
    "             marker=\"s\", markersize=7, mfc=\"black\", mec=\"black\")\n",
    "plt.xlabel('no of simulations') \n",
    "plt.ylabel('Estimated Value of W')\n",
    "plt.title(\"estimator 'W' 90% confidence interval\")"
   ]
  },
  {
   "cell_type": "code",
   "execution_count": 147,
   "id": "4cd59ac8",
   "metadata": {
    "scrolled": true
   },
   "outputs": [
    {
     "data": {
      "text/plain": [
       "Text(0.5, 1.0, \"estimator 'Z' 90% confidence interval\")"
      ]
     },
     "execution_count": 147,
     "metadata": {},
     "output_type": "execute_result"
    },
    {
     "data": {
      "image/png": "[encoded data removed]",
      "text/plain": [
       "<Figure size 720x324 with 1 Axes>"
      ]
     },
     "metadata": {
      "needs_background": "light"
     },
     "output_type": "display_data"
    }
   ],
   "source": [
    "fig, ax = plt.subplots(figsize=(10, 4.5))\n",
    "plt.errorbar(x_1.astype('str'), y=z_bar, yerr=z_error_, color=\"blue\", capsize=3,\n",
    "             linestyle=\"None\",\n",
    "             marker=\"s\", markersize=7, mfc=\"black\", mec=\"black\")\n",
    "plt.xlabel('no of simulations') \n",
    "plt.ylabel('Estimated Value of Z')\n",
    "plt.title(\"estimator 'Z' 90% confidence interval\")"
   ]
  },
  {
   "cell_type": "code",
   "execution_count": 148,
   "id": "271fd9d6",
   "metadata": {},
   "outputs": [
    {
     "data": {
      "text/plain": [
       "Text(0.5, 1.0, \"estimator 'H' 90% confidence interval\")"
      ]
     },
     "execution_count": 148,
     "metadata": {},
     "output_type": "execute_result"
    },
    {
     "data": {
      "image/png": "[encoded data removed]",
      "text/plain": [
       "<Figure size 720x360 with 1 Axes>"
      ]
     },
     "metadata": {
      "needs_background": "light"
     },
     "output_type": "display_data"
    }
   ],
   "source": [
    "fig, ax = plt.subplots(figsize=(10, 5))\n",
    "plt.errorbar(x_1.astype('str'), y=h_bar, yerr=z_error_, color=\"green\", capsize=3,\n",
    "             linestyle=\"None\",\n",
    "             marker=\"s\", markersize=7, mfc=\"black\", mec=\"black\")\n",
    "plt.xlabel('no of simulations') \n",
    "plt.ylabel('Estimated Value of H')\n",
    "plt.title(\"estimator 'H' 90% confidence interval\")"
   ]
  },
  {
   "cell_type": "code",
   "execution_count": 150,
   "id": "407ff3db",
   "metadata": {
    "scrolled": true
   },
   "outputs": [
    {
     "data": {
      "text/plain": [
       "Text(0.5, 1.0, \"estimator 'L' 90% confidence interval\")"
      ]
     },
     "execution_count": 150,
     "metadata": {},
     "output_type": "execute_result"
    },
    {
     "data": {
      "image/png": "[encoded data removed]",
      "text/plain": [
       "<Figure size 720x324 with 1 Axes>"
      ]
     },
     "metadata": {
      "needs_background": "light"
     },
     "output_type": "display_data"
    }
   ],
   "source": [
    "fig, ax = plt.subplots(figsize=(10, 4.5))\n",
    "plt.errorbar(x_1.astype('str'), y=l_bar, yerr=z_error_, color=\"orange\", capsize=3,\n",
    "             linestyle=\"None\",\n",
    "             marker=\"s\", markersize=7, mfc=\"black\", mec=\"black\")\n",
    "plt.xlabel('no of simulations') \n",
    "plt.ylabel('Estimated Value of L')\n",
    "plt.title(\"estimator 'L' 90% confidence interval\")"
   ]
  },
  {
   "cell_type": "markdown",
   "id": "ba09ee71",
   "metadata": {},
   "source": [
    "#### (2a) Minimum number of simulations required for all 4 estimators"
   ]
  },
  {
   "cell_type": "code",
   "execution_count": 151,
   "id": "85052f6e",
   "metadata": {},
   "outputs": [
    {
     "name": "stdout",
     "output_type": "stream",
     "text": [
      "Minimum number of simulations needed for estimator W is:  60\n",
      "Minimum number of simulations needed for estimator Z is:  40\n",
      "Minimum number of simulations needed for estimator H is:  80\n",
      "Minimum number of simulations needed for estimator L is:  40\n"
     ]
    }
   ],
   "source": [
    "print(\"Minimum number of simulations needed for estimator W is: \", min(min_sim_w))\n",
    "print(\"Minimum number of simulations needed for estimator Z is: \", min(min_sim_z))\n",
    "print(\"Minimum number of simulations needed for estimator H is: \", min(min_sim_h))\n",
    "print(\"Minimum number of simulations needed for estimator L is: \", min(min_sim_l))"
   ]
  },
  {
   "cell_type": "code",
   "execution_count": null,
   "id": "473db94a",
   "metadata": {},
   "outputs": [],
   "source": []
  }
 ],
 "metadata": {
  "kernelspec": {
   "display_name": "Python 3 (ipykernel)",
   "language": "python",
   "name": "python3"
  },
  "language_info": {
   "codemirror_mode": {
    "name": "ipython",
    "version": 3
   },
   "file_extension": ".py",
   "mimetype": "text/x-python",
   "name": "python",
   "nbconvert_exporter": "python",
   "pygments_lexer": "ipython3",
   "version": "3.9.9"
  }
 },
 "nbformat": 4,
 "nbformat_minor": 5
}
